{
 "cells": [
  {
   "cell_type": "markdown",
   "id": "02a20651-1d65-42cd-8bc2-1034a384071f",
   "metadata": {},
   "source": [
    "# Efficient Yelp API Calls"
   ]
  },
  {
   "cell_type": "markdown",
   "id": "38c0a80b-3d7f-475b-ba61-9232680cc79c",
   "metadata": {},
   "source": [
    "## Adding Safeguards to our Data Extraction Workflow"
   ]
  },
  {
   "cell_type": "markdown",
   "id": "01795c8a-4689-47dd-b8e7-82a4c30a667f",
   "metadata": {},
   "source": [
    "## Import Libraries"
   ]
  },
  {
   "cell_type": "code",
   "execution_count": 1,
   "id": "adc55abd-f6b3-43a1-bd7b-9cb1d57ae333",
   "metadata": {},
   "outputs": [],
   "source": [
    "# Standard Imports\n",
    "import numpy as np\n",
    "import pandas as pd\n",
    "import matplotlib.pyplot as plt\n",
    "import seaborn as sns\n",
    "\n",
    "# Additional Imports\n",
    "import os, json, math, time\n",
    "from yelpapi import YelpAPI\n",
    "from tqdm.notebook import tqdm_notebook"
   ]
  },
  {
   "cell_type": "markdown",
   "id": "6aab3ac4-1a22-40a6-acef-a2dfce27e862",
   "metadata": {},
   "source": [
    "## Custom Function for processing"
   ]
  },
  {
   "cell_type": "code",
   "execution_count": 11,
   "id": "b647e3ba-4099-4124-9bce-a601d4a5d3a2",
   "metadata": {},
   "outputs": [],
   "source": [
    "def create_json_file(JSON_FILE, delete_if_exists=False):\n",
    "\n",
    "    ## Check if JSON_FILE exists\n",
    "    file_exists = os.path.isfile(JSON_FILE)\n",
    "\n",
    "    ## If it DOES exist:\n",
    "    if file_exists == True:\n",
    "\n",
    "        ## Check if user wants to delete if exists\n",
    "        if delete_if_exists == True:\n",
    "\n",
    "            print(f\"[!] {JSON_FILE} already exists. Deleting previous file...\")\n",
    "            ## delete file and confirm it no longer exits.\n",
    "            os.remove(JSON_FILE)\n",
    "## Recursive call to function after old file deleted\n",
    "            create_json_file(JSON_FILE, delete_if_exists=False)\n",
    "        else:\n",
    "            print(f\"[i] {JSON_FILE} already exists.\")\n",
    "\n",
    "    ## If it does NOT exist:\n",
    "    else:\n",
    "\n",
    "        ## INFORM USER AND SAVE EMPTY LIST\n",
    "        print(f\"[i] {JSON_FILE} not found. Saving empty list to new file.\")\n",
    "\n",
    "        ## CREATE ANY NEEDED FOLDERS\n",
    "        # Get the Folder Name only\n",
    "        folder = os.path.dirname(JSON_FILE)\n",
    "\n",
    "        ## If JSON_FILE included a folder:\n",
    "        if len(folder) > 0:\n",
    "            # create the folder\n",
    "            os.makedirs(folder, exist_ok=True)\n",
    "        ## Save empty list to start the json file\n",
    "        with open(JSON_FILE, \"w\") as f:\n",
    "            json.dump([], f)\n"
   ]
  },
  {
   "cell_type": "markdown",
   "id": "0ace56de-b5ce-401b-b075-3f85d32c9823",
   "metadata": {},
   "source": [
    "## Credentials and Accessing the API"
   ]
  },
  {
   "cell_type": "code",
   "execution_count": 2,
   "id": "7f995287-45b9-4bf5-a511-29d8bd584634",
   "metadata": {},
   "outputs": [],
   "source": [
    "# Load API Credentials\n",
    "with open(r'/Users/OM22285/.secret/yelp_api.json') as f:   #use your path here!\n",
    "    login = json.load(f)\n",
    "# Instantiate YelpAPI Variable\n",
    "yelp_api = YelpAPI(login['api-key'], timeout_s=5.0)"
   ]
  },
  {
   "cell_type": "markdown",
   "id": "8bbf08e1-d144-42e3-918a-51e760043053",
   "metadata": {},
   "source": [
    "**Define Search**\n",
    "\n",
    "To allow us to easily perform different searches in the future, we will define variables for LOCATION and TERM set for our particular search conditions. Then, when we want to use a different location or term, we can just redefine these variables. This streamlines the code and makes it more readable and reproducible."
   ]
  },
  {
   "cell_type": "code",
   "execution_count": 3,
   "id": "cd80cbe9-4c9b-4fca-af64-0f63f0d78ab6",
   "metadata": {},
   "outputs": [],
   "source": [
    "# set our API call parameters \n",
    "LOCATION = 'IL,IL'\n",
    "TERM = 'Burger'"
   ]
  },
  {
   "cell_type": "code",
   "execution_count": 4,
   "id": "24c463e4-9130-4635-b6d5-65c6b7ee3504",
   "metadata": {},
   "outputs": [
    {
     "data": {
      "text/plain": [
       "'Coding Dojo/Week 18/Data/results_in_progress_IL_Burger.json'"
      ]
     },
     "execution_count": 4,
     "metadata": {},
     "output_type": "execute_result"
    }
   ],
   "source": [
    "# Specifying JSON_FILE filename (can include a folder)\n",
    "# include the search terms in the filename\n",
    "JSON_FILE = \"Coding Dojo/Week 18/Data/results_in_progress_IL_Burger.json\"\n",
    "JSON_FILE"
   ]
  },
  {
   "cell_type": "code",
   "execution_count": 5,
   "id": "a5dbca9a-27f7-4e46-b155-cfd7534b6170",
   "metadata": {},
   "outputs": [
    {
     "name": "stdout",
     "output_type": "stream",
     "text": [
      "[i] Coding Dojo/Week 18/Data/results_in_progress_IL_Burger.json not found. Saving empty list to file.\n"
     ]
    }
   ],
   "source": [
    "## Check if JSON_FILE exists\n",
    "file_exists = os.path.isfile(JSON_FILE)\n",
    "## If it does not exist: \n",
    "if file_exists == False:\n",
    "    \n",
    "    ## CREATE ANY NEEDED FOLDERS\n",
    "    # Get the Folder Name only\n",
    "    folder = os.path.dirname(JSON_FILE)\n",
    "    ## If JSON_FILE included a folder:\n",
    "    if len(folder)>0:\n",
    "        # create the folder\n",
    "        os.makedirs(folder,exist_ok=True)\n",
    "        \n",
    "        \n",
    "    ## INFORM USER AND SAVE EMPTY LIST\n",
    "    print(f'[i] {JSON_FILE} not found. Saving empty list to file.')\n",
    "    \n",
    "    \n",
    "    # save an empty list\n",
    "    with open(JSON_FILE,'w') as f:\n",
    "        json.dump([],f)  \n",
    "# If it exists, inform user\n",
    "else:\n",
    "    print(f\"[i] {JSON_FILE} already exists.\")\n"
   ]
  },
  {
   "cell_type": "code",
   "execution_count": 6,
   "id": "b2d81447-9066-4d33-9e06-4226c4ce1114",
   "metadata": {},
   "outputs": [
    {
     "name": "stdout",
     "output_type": "stream",
     "text": [
      "- 0 previous results found.\n"
     ]
    }
   ],
   "source": [
    "## Load previous results and use len of results for offset\n",
    "with open(JSON_FILE,'r') as f:\n",
    "    previous_results = json.load(f)\n",
    "    \n",
    "## set offset based on previous results\n",
    "n_results = len(previous_results)\n",
    "print(f'- {n_results} previous results found.')"
   ]
  },
  {
   "cell_type": "markdown",
   "id": "dfe3eca9-8604-455a-8bab-995d7f1189f5",
   "metadata": {},
   "source": [
    "**Figure out how many pages of results we will need**\n"
   ]
  },
  {
   "cell_type": "code",
   "execution_count": 7,
   "id": "060f01df-d746-461a-9321-b34fb445a82e",
   "metadata": {},
   "outputs": [
    {
     "data": {
      "text/plain": [
       "dict_keys(['businesses', 'total', 'region'])"
      ]
     },
     "execution_count": 7,
     "metadata": {},
     "output_type": "execute_result"
    }
   ],
   "source": [
    "# use our yelp_api variable's search_query method to perform our API call\n",
    "results = yelp_api.search_query(location=LOCATION,\n",
    "                                term=TERM,\n",
    "                               offset=n_results)\n",
    "results.keys()"
   ]
  },
  {
   "cell_type": "code",
   "execution_count": 8,
   "id": "98f0b26a-9797-43b8-abf8-bf0c42a7f274",
   "metadata": {},
   "outputs": [
    {
     "data": {
      "text/plain": [
       "5500"
      ]
     },
     "execution_count": 8,
     "metadata": {},
     "output_type": "execute_result"
    }
   ],
   "source": [
    "## How many results total?\n",
    "total_results = results['total']\n",
    "total_results"
   ]
  },
  {
   "cell_type": "code",
   "execution_count": 9,
   "id": "b1dae98c-b546-41a9-a9cb-2ff398c5422a",
   "metadata": {},
   "outputs": [
    {
     "data": {
      "text/plain": [
       "20"
      ]
     },
     "execution_count": 9,
     "metadata": {},
     "output_type": "execute_result"
    }
   ],
   "source": [
    "## How many did we get the details for?\n",
    "results_per_page = len(results['businesses'])\n",
    "results_per_page"
   ]
  },
  {
   "cell_type": "markdown",
   "id": "9773c1dd-0cb4-4ec3-871d-86108765d8c7",
   "metadata": {},
   "source": [
    "There are over 5500 businesses to retrieve from our API, and we can get 20 results at a time (per \"page\").l."
   ]
  },
  {
   "cell_type": "code",
   "execution_count": 10,
   "id": "b073ab14-8773-4995-b8c5-55b9679a8607",
   "metadata": {},
   "outputs": [
    {
     "data": {
      "text/plain": [
       "275"
      ]
     },
     "execution_count": 10,
     "metadata": {},
     "output_type": "execute_result"
    }
   ],
   "source": [
    "# Use math.ceil to round up for the total number of pages of results.\n",
    "n_pages = math.ceil((results['total']-n_results)/ results_per_page)\n",
    "n_pages"
   ]
  },
  {
   "cell_type": "markdown",
   "id": "ee9766be-79fe-475c-9abe-778aa3965f49",
   "metadata": {},
   "source": [
    "When this example was written, there were 5500 results and 20 results per page\n",
    "\n",
    "5500 /20 = 275 p."
   ]
  },
  {
   "cell_type": "markdown",
   "id": "503824ac-85a9-4a96-8be4-c9b93bc521fa",
   "metadata": {},
   "source": [
    "Now that we have our new function, we can use it with delete_if_exists=True to delete our previous results and start over. We will also need to repeat the steps to recreate our n-results, total_results, results_per_page, and n_pages variables that we created before our first attempted loop."
   ]
  },
  {
   "cell_type": "code",
   "execution_count": 12,
   "id": "3da35fb0-35ae-46bd-bf03-5a936f6cf382",
   "metadata": {},
   "outputs": [
    {
     "name": "stdout",
     "output_type": "stream",
     "text": [
      "[!] Coding Dojo/Week 18/Data/results_in_progress_IL_Burger.json already exists. Deleting previous file...\n",
      "[i] Coding Dojo/Week 18/Data/results_in_progress_IL_Burger.json not found. Saving empty list to new file.\n",
      "- 0 previous results found.\n"
     ]
    },
    {
     "data": {
      "text/plain": [
       "275"
      ]
     },
     "execution_count": 12,
     "metadata": {},
     "output_type": "execute_result"
    }
   ],
   "source": [
    "## Create a new empty json file (exist the previous if it exists)\n",
    "create_json_file(JSON_FILE, delete_if_exists=True)\n",
    "## Load previous results and use len of results for offset\n",
    "with open(JSON_FILE,'r') as f:\n",
    "    previous_results = json.load(f)\n",
    "    \n",
    "## set offset based on previous results\n",
    "n_results = len(previous_results)\n",
    "print(f'- {n_results} previous results found.')\n",
    "# use our yelp_api variable's search_query method to perform our API call\n",
    "results = yelp_api.search_query(location=LOCATION,\n",
    "                                term=TERM,\n",
    "                               offset=n_results)\n",
    "## How many results total?\n",
    "total_results = results['total']\n",
    "## How many did we get the details for?\n",
    "results_per_page = len(results['businesses'])\n",
    "# Use math.ceil to round up for the total number of pages of results.\n",
    "n_pages = math.ceil((results['total']-n_results)/ results_per_page)\n",
    "n_pages"
   ]
  },
  {
   "cell_type": "code",
   "execution_count": 13,
   "id": "0eb56bf9-f615-40d7-aa8a-b98be4a41c55",
   "metadata": {},
   "outputs": [
    {
     "data": {
      "application/vnd.jupyter.widget-view+json": {
       "model_id": "c73a651204af4836a812dd76b9d91232",
       "version_major": 2,
       "version_minor": 0
      },
      "text/plain": [
       "  0%|          | 0/275 [00:00<?, ?it/s]"
      ]
     },
     "metadata": {},
     "output_type": "display_data"
    },
    {
     "name": "stdout",
     "output_type": "stream",
     "text": [
      "Exceeded 50 api calls. Stopping loop.\n"
     ]
    }
   ],
   "source": [
    "for i in tqdm_notebook( range(1,n_pages+1)):\n",
    "    \n",
    "    ## Read in results in progress file and check the length\n",
    "    with open(JSON_FILE, 'r') as f:\n",
    "        previous_results = json.load(f)\n",
    "    ## save number of results for to use as offset\n",
    "    n_results = len(previous_results)\n",
    "    \n",
    "    if (n_results + results_per_page) > 1000:\n",
    "        print('Exceeded 50 api calls. Stopping loop.')\n",
    "        break\n",
    "    \n",
    "    ## use n_results as the OFFSET \n",
    "    results = yelp_api.search_query(location=LOCATION,\n",
    "                                    term=TERM, \n",
    "                                    offset=n_results)\n",
    "    \n",
    "    \n",
    "    \n",
    "    ## append new results and save to file\n",
    "    previous_results.extend(results['businesses'])\n",
    "    \n",
    "    # display(previous_results)\n",
    "    with open(JSON_FILE,'w') as f:\n",
    "        json.dump(previous_results,f)\n",
    "    \n",
    "    time.sleep(.2)"
   ]
  },
  {
   "cell_type": "markdown",
   "id": "4d025d92-6279-4a19-86bc-2737e5e9d8d0",
   "metadata": {},
   "source": [
    "## After the Loop has finished\n",
    "\n",
    "**Convert .json to dataframe**\n",
    "Load in the \"results in progress\" JSON file into a Dataframe."
   ]
  },
  {
   "cell_type": "code",
   "execution_count": 14,
   "id": "8b713484-036d-420c-9a97-1c47159f3f49",
   "metadata": {},
   "outputs": [
    {
     "data": {
      "text/html": [
       "<div>\n",
       "<style scoped>\n",
       "    .dataframe tbody tr th:only-of-type {\n",
       "        vertical-align: middle;\n",
       "    }\n",
       "\n",
       "    .dataframe tbody tr th {\n",
       "        vertical-align: top;\n",
       "    }\n",
       "\n",
       "    .dataframe thead th {\n",
       "        text-align: right;\n",
       "    }\n",
       "</style>\n",
       "<table border=\"1\" class=\"dataframe\">\n",
       "  <thead>\n",
       "    <tr style=\"text-align: right;\">\n",
       "      <th></th>\n",
       "      <th>id</th>\n",
       "      <th>alias</th>\n",
       "      <th>name</th>\n",
       "      <th>image_url</th>\n",
       "      <th>is_closed</th>\n",
       "      <th>url</th>\n",
       "      <th>review_count</th>\n",
       "      <th>categories</th>\n",
       "      <th>rating</th>\n",
       "      <th>coordinates</th>\n",
       "      <th>transactions</th>\n",
       "      <th>price</th>\n",
       "      <th>location</th>\n",
       "      <th>phone</th>\n",
       "      <th>display_phone</th>\n",
       "      <th>distance</th>\n",
       "    </tr>\n",
       "  </thead>\n",
       "  <tbody>\n",
       "    <tr>\n",
       "      <th>0</th>\n",
       "      <td>xoi7Cw7FoknAx5p880RtWQ</td>\n",
       "      <td>au-cheval-chicago</td>\n",
       "      <td>Au Cheval</td>\n",
       "      <td>https://s3-media3.fl.yelpcdn.com/bphoto/td7RDA...</td>\n",
       "      <td>False</td>\n",
       "      <td>https://www.yelp.com/biz/au-cheval-chicago?adj...</td>\n",
       "      <td>8639</td>\n",
       "      <td>[{'alias': 'bars', 'title': 'Bars'}, {'alias':...</td>\n",
       "      <td>4.5</td>\n",
       "      <td>{'latitude': 41.88466, 'longitude': -87.647668}</td>\n",
       "      <td>[delivery, pickup]</td>\n",
       "      <td>$$</td>\n",
       "      <td>{'address1': '800 W Randolph St', 'address2': ...</td>\n",
       "      <td>+13129294580</td>\n",
       "      <td>(312) 929-4580</td>\n",
       "      <td>3376.598427</td>\n",
       "    </tr>\n",
       "    <tr>\n",
       "      <th>1</th>\n",
       "      <td>k7Izs1AKrIUIYmN4oSCijQ</td>\n",
       "      <td>bianca-s-burgers-chicago</td>\n",
       "      <td>Bianca’s Burgers</td>\n",
       "      <td>https://s3-media3.fl.yelpcdn.com/bphoto/Hsm8nA...</td>\n",
       "      <td>False</td>\n",
       "      <td>https://www.yelp.com/biz/bianca-s-burgers-chic...</td>\n",
       "      <td>17</td>\n",
       "      <td>[{'alias': 'burgers', 'title': 'Burgers'}]</td>\n",
       "      <td>5.0</td>\n",
       "      <td>{'latitude': 41.902726, 'longitude': -87.690483}</td>\n",
       "      <td>[delivery, pickup]</td>\n",
       "      <td>NaN</td>\n",
       "      <td>{'address1': '2525 Division St', 'address2': '...</td>\n",
       "      <td>+17737706251</td>\n",
       "      <td>(773) 770-6251</td>\n",
       "      <td>1080.104817</td>\n",
       "    </tr>\n",
       "    <tr>\n",
       "      <th>2</th>\n",
       "      <td>gzhkdb6YoiFm5s3vriG1AA</td>\n",
       "      <td>gretel-chicago</td>\n",
       "      <td>Gretel</td>\n",
       "      <td>https://s3-media1.fl.yelpcdn.com/bphoto/TcPX2g...</td>\n",
       "      <td>False</td>\n",
       "      <td>https://www.yelp.com/biz/gretel-chicago?adjust...</td>\n",
       "      <td>240</td>\n",
       "      <td>[{'alias': 'beer_and_wine', 'title': 'Beer, Wi...</td>\n",
       "      <td>4.5</td>\n",
       "      <td>{'latitude': 41.917275, 'longitude': -87.698577}</td>\n",
       "      <td>[delivery, pickup]</td>\n",
       "      <td>$$</td>\n",
       "      <td>{'address1': '2833 W Armitage Ave', 'address2'...</td>\n",
       "      <td>+17737703427</td>\n",
       "      <td>(773) 770-3427</td>\n",
       "      <td>2186.522108</td>\n",
       "    </tr>\n",
       "    <tr>\n",
       "      <th>3</th>\n",
       "      <td>7Es7EbTy_s1btAdowLeiPQ</td>\n",
       "      <td>small-cheval-wicker-park-chicago</td>\n",
       "      <td>Small Cheval- Wicker Park</td>\n",
       "      <td>https://s3-media3.fl.yelpcdn.com/bphoto/oyVPVN...</td>\n",
       "      <td>False</td>\n",
       "      <td>https://www.yelp.com/biz/small-cheval-wicker-p...</td>\n",
       "      <td>1399</td>\n",
       "      <td>[{'alias': 'burgers', 'title': 'Burgers'}, {'a...</td>\n",
       "      <td>4.5</td>\n",
       "      <td>{'latitude': 41.9128227233887, 'longitude': -8...</td>\n",
       "      <td>[delivery, pickup]</td>\n",
       "      <td>$$</td>\n",
       "      <td>{'address1': '1732 N Milwaukee Ave', 'address2...</td>\n",
       "      <td>+13128373859</td>\n",
       "      <td>(312) 837-3859</td>\n",
       "      <td>910.982141</td>\n",
       "    </tr>\n",
       "    <tr>\n",
       "      <th>4</th>\n",
       "      <td>Ydf5dgFsGhMSP61Ht7TekA</td>\n",
       "      <td>butcher-and-the-burger-chicago</td>\n",
       "      <td>Butcher &amp; The Burger</td>\n",
       "      <td>https://s3-media4.fl.yelpcdn.com/bphoto/miImbr...</td>\n",
       "      <td>False</td>\n",
       "      <td>https://www.yelp.com/biz/butcher-and-the-burge...</td>\n",
       "      <td>1131</td>\n",
       "      <td>[{'alias': 'burgers', 'title': 'Burgers'}, {'a...</td>\n",
       "      <td>4.0</td>\n",
       "      <td>{'latitude': 41.91787, 'longitude': -87.65423}</td>\n",
       "      <td>[delivery, pickup]</td>\n",
       "      <td>$$</td>\n",
       "      <td>{'address1': '1021 W Armitage Ave', 'address2'...</td>\n",
       "      <td>+17736973735</td>\n",
       "      <td>(773) 697-3735</td>\n",
       "      <td>2406.338770</td>\n",
       "    </tr>\n",
       "  </tbody>\n",
       "</table>\n",
       "</div>"
      ],
      "text/plain": [
       "                       id                             alias  \\\n",
       "0  xoi7Cw7FoknAx5p880RtWQ                 au-cheval-chicago   \n",
       "1  k7Izs1AKrIUIYmN4oSCijQ          bianca-s-burgers-chicago   \n",
       "2  gzhkdb6YoiFm5s3vriG1AA                    gretel-chicago   \n",
       "3  7Es7EbTy_s1btAdowLeiPQ  small-cheval-wicker-park-chicago   \n",
       "4  Ydf5dgFsGhMSP61Ht7TekA    butcher-and-the-burger-chicago   \n",
       "\n",
       "                        name  \\\n",
       "0                  Au Cheval   \n",
       "1           Bianca’s Burgers   \n",
       "2                     Gretel   \n",
       "3  Small Cheval- Wicker Park   \n",
       "4       Butcher & The Burger   \n",
       "\n",
       "                                           image_url  is_closed  \\\n",
       "0  https://s3-media3.fl.yelpcdn.com/bphoto/td7RDA...      False   \n",
       "1  https://s3-media3.fl.yelpcdn.com/bphoto/Hsm8nA...      False   \n",
       "2  https://s3-media1.fl.yelpcdn.com/bphoto/TcPX2g...      False   \n",
       "3  https://s3-media3.fl.yelpcdn.com/bphoto/oyVPVN...      False   \n",
       "4  https://s3-media4.fl.yelpcdn.com/bphoto/miImbr...      False   \n",
       "\n",
       "                                                 url  review_count  \\\n",
       "0  https://www.yelp.com/biz/au-cheval-chicago?adj...          8639   \n",
       "1  https://www.yelp.com/biz/bianca-s-burgers-chic...            17   \n",
       "2  https://www.yelp.com/biz/gretel-chicago?adjust...           240   \n",
       "3  https://www.yelp.com/biz/small-cheval-wicker-p...          1399   \n",
       "4  https://www.yelp.com/biz/butcher-and-the-burge...          1131   \n",
       "\n",
       "                                          categories  rating  \\\n",
       "0  [{'alias': 'bars', 'title': 'Bars'}, {'alias':...     4.5   \n",
       "1         [{'alias': 'burgers', 'title': 'Burgers'}]     5.0   \n",
       "2  [{'alias': 'beer_and_wine', 'title': 'Beer, Wi...     4.5   \n",
       "3  [{'alias': 'burgers', 'title': 'Burgers'}, {'a...     4.5   \n",
       "4  [{'alias': 'burgers', 'title': 'Burgers'}, {'a...     4.0   \n",
       "\n",
       "                                         coordinates        transactions  \\\n",
       "0    {'latitude': 41.88466, 'longitude': -87.647668}  [delivery, pickup]   \n",
       "1   {'latitude': 41.902726, 'longitude': -87.690483}  [delivery, pickup]   \n",
       "2   {'latitude': 41.917275, 'longitude': -87.698577}  [delivery, pickup]   \n",
       "3  {'latitude': 41.9128227233887, 'longitude': -8...  [delivery, pickup]   \n",
       "4     {'latitude': 41.91787, 'longitude': -87.65423}  [delivery, pickup]   \n",
       "\n",
       "  price                                           location         phone  \\\n",
       "0    $$  {'address1': '800 W Randolph St', 'address2': ...  +13129294580   \n",
       "1   NaN  {'address1': '2525 Division St', 'address2': '...  +17737706251   \n",
       "2    $$  {'address1': '2833 W Armitage Ave', 'address2'...  +17737703427   \n",
       "3    $$  {'address1': '1732 N Milwaukee Ave', 'address2...  +13128373859   \n",
       "4    $$  {'address1': '1021 W Armitage Ave', 'address2'...  +17736973735   \n",
       "\n",
       "    display_phone     distance  \n",
       "0  (312) 929-4580  3376.598427  \n",
       "1  (773) 770-6251  1080.104817  \n",
       "2  (773) 770-3427  2186.522108  \n",
       "3  (312) 837-3859   910.982141  \n",
       "4  (773) 697-3735  2406.338770  "
      ]
     },
     "metadata": {},
     "output_type": "display_data"
    },
    {
     "data": {
      "text/html": [
       "<div>\n",
       "<style scoped>\n",
       "    .dataframe tbody tr th:only-of-type {\n",
       "        vertical-align: middle;\n",
       "    }\n",
       "\n",
       "    .dataframe tbody tr th {\n",
       "        vertical-align: top;\n",
       "    }\n",
       "\n",
       "    .dataframe thead th {\n",
       "        text-align: right;\n",
       "    }\n",
       "</style>\n",
       "<table border=\"1\" class=\"dataframe\">\n",
       "  <thead>\n",
       "    <tr style=\"text-align: right;\">\n",
       "      <th></th>\n",
       "      <th>id</th>\n",
       "      <th>alias</th>\n",
       "      <th>name</th>\n",
       "      <th>image_url</th>\n",
       "      <th>is_closed</th>\n",
       "      <th>url</th>\n",
       "      <th>review_count</th>\n",
       "      <th>categories</th>\n",
       "      <th>rating</th>\n",
       "      <th>coordinates</th>\n",
       "      <th>transactions</th>\n",
       "      <th>price</th>\n",
       "      <th>location</th>\n",
       "      <th>phone</th>\n",
       "      <th>display_phone</th>\n",
       "      <th>distance</th>\n",
       "    </tr>\n",
       "  </thead>\n",
       "  <tbody>\n",
       "    <tr>\n",
       "      <th>995</th>\n",
       "      <td>wjACjySYGlQ8_mx8it3FQw</td>\n",
       "      <td>mr-broast-des-plaines</td>\n",
       "      <td>Mr Broast</td>\n",
       "      <td>https://s3-media2.fl.yelpcdn.com/bphoto/TRHurv...</td>\n",
       "      <td>False</td>\n",
       "      <td>https://www.yelp.com/biz/mr-broast-des-plaines...</td>\n",
       "      <td>92</td>\n",
       "      <td>[{'alias': 'burgers', 'title': 'Burgers'}]</td>\n",
       "      <td>3.5</td>\n",
       "      <td>{'latitude': 42.0092501, 'longitude': -87.8858...</td>\n",
       "      <td>[delivery, pickup]</td>\n",
       "      <td>$$</td>\n",
       "      <td>{'address1': '7104 Mannheim Rd', 'address2': '...</td>\n",
       "      <td>+18478135797</td>\n",
       "      <td>(847) 813-5797</td>\n",
       "      <td>20760.011523</td>\n",
       "    </tr>\n",
       "    <tr>\n",
       "      <th>996</th>\n",
       "      <td>J_6biyUoo3wYneF3j4LKWw</td>\n",
       "      <td>osteria-via-stato-chicago</td>\n",
       "      <td>Osteria Via Stato</td>\n",
       "      <td>https://s3-media3.fl.yelpcdn.com/bphoto/h2EPXE...</td>\n",
       "      <td>False</td>\n",
       "      <td>https://www.yelp.com/biz/osteria-via-stato-chi...</td>\n",
       "      <td>1015</td>\n",
       "      <td>[{'alias': 'italian', 'title': 'Italian'}, {'a...</td>\n",
       "      <td>4.0</td>\n",
       "      <td>{'latitude': 41.893095, 'longitude': -87.6282449}</td>\n",
       "      <td>[delivery, pickup]</td>\n",
       "      <td>$$</td>\n",
       "      <td>{'address1': '620 N State St', 'address2': '',...</td>\n",
       "      <td>+13126428450</td>\n",
       "      <td>(312) 642-8450</td>\n",
       "      <td>4310.411906</td>\n",
       "    </tr>\n",
       "    <tr>\n",
       "      <th>997</th>\n",
       "      <td>z8G5AfXYbJD2jQpSEF633g</td>\n",
       "      <td>michaels-original-pizzeria-and-tavern-chicago</td>\n",
       "      <td>Michael's Original Pizzeria &amp; Tavern</td>\n",
       "      <td>https://s3-media4.fl.yelpcdn.com/bphoto/fzoCYS...</td>\n",
       "      <td>False</td>\n",
       "      <td>https://www.yelp.com/biz/michaels-original-piz...</td>\n",
       "      <td>806</td>\n",
       "      <td>[{'alias': 'pubs', 'title': 'Pubs'}, {'alias':...</td>\n",
       "      <td>4.5</td>\n",
       "      <td>{'latitude': 41.95681, 'longitude': -87.65173}</td>\n",
       "      <td>[delivery, pickup]</td>\n",
       "      <td>$$</td>\n",
       "      <td>{'address1': '4091 N Broadway St', 'address2':...</td>\n",
       "      <td>+17739294149</td>\n",
       "      <td>(773) 929-4149</td>\n",
       "      <td>6139.305618</td>\n",
       "    </tr>\n",
       "    <tr>\n",
       "      <th>998</th>\n",
       "      <td>C9g-N9uXfbCzz7Ru6y3hsA</td>\n",
       "      <td>firehouse-grill-chicago</td>\n",
       "      <td>Firehouse Grill</td>\n",
       "      <td>https://s3-media1.fl.yelpcdn.com/bphoto/kyPOOh...</td>\n",
       "      <td>False</td>\n",
       "      <td>https://www.yelp.com/biz/firehouse-grill-chica...</td>\n",
       "      <td>36</td>\n",
       "      <td>[{'alias': 'hotdog', 'title': 'Hot Dogs'}, {'a...</td>\n",
       "      <td>3.5</td>\n",
       "      <td>{'latitude': 41.866155, 'longitude': -87.765773}</td>\n",
       "      <td>[pickup, delivery]</td>\n",
       "      <td>$</td>\n",
       "      <td>{'address1': '5646 W Roosevelt Rd', 'address2'...</td>\n",
       "      <td>+17736260600</td>\n",
       "      <td>(773) 626-0600</td>\n",
       "      <td>8478.720509</td>\n",
       "    </tr>\n",
       "    <tr>\n",
       "      <th>999</th>\n",
       "      <td>qN-JQU24tZJniMm34slBFg</td>\n",
       "      <td>torali-chicago-2</td>\n",
       "      <td>Torali</td>\n",
       "      <td>https://s3-media1.fl.yelpcdn.com/bphoto/ZlePXo...</td>\n",
       "      <td>False</td>\n",
       "      <td>https://www.yelp.com/biz/torali-chicago-2?adju...</td>\n",
       "      <td>50</td>\n",
       "      <td>[{'alias': 'italian', 'title': 'Italian'}, {'a...</td>\n",
       "      <td>4.0</td>\n",
       "      <td>{'latitude': 41.89777438629329, 'longitude': -...</td>\n",
       "      <td>[delivery]</td>\n",
       "      <td>$$$</td>\n",
       "      <td>{'address1': '160 E Pearson St', 'address2': '...</td>\n",
       "      <td>+13125735160</td>\n",
       "      <td>(312) 573-5160</td>\n",
       "      <td>4655.257231</td>\n",
       "    </tr>\n",
       "  </tbody>\n",
       "</table>\n",
       "</div>"
      ],
      "text/plain": [
       "                         id                                          alias  \\\n",
       "995  wjACjySYGlQ8_mx8it3FQw                          mr-broast-des-plaines   \n",
       "996  J_6biyUoo3wYneF3j4LKWw                      osteria-via-stato-chicago   \n",
       "997  z8G5AfXYbJD2jQpSEF633g  michaels-original-pizzeria-and-tavern-chicago   \n",
       "998  C9g-N9uXfbCzz7Ru6y3hsA                        firehouse-grill-chicago   \n",
       "999  qN-JQU24tZJniMm34slBFg                               torali-chicago-2   \n",
       "\n",
       "                                     name  \\\n",
       "995                             Mr Broast   \n",
       "996                     Osteria Via Stato   \n",
       "997  Michael's Original Pizzeria & Tavern   \n",
       "998                       Firehouse Grill   \n",
       "999                                Torali   \n",
       "\n",
       "                                             image_url  is_closed  \\\n",
       "995  https://s3-media2.fl.yelpcdn.com/bphoto/TRHurv...      False   \n",
       "996  https://s3-media3.fl.yelpcdn.com/bphoto/h2EPXE...      False   \n",
       "997  https://s3-media4.fl.yelpcdn.com/bphoto/fzoCYS...      False   \n",
       "998  https://s3-media1.fl.yelpcdn.com/bphoto/kyPOOh...      False   \n",
       "999  https://s3-media1.fl.yelpcdn.com/bphoto/ZlePXo...      False   \n",
       "\n",
       "                                                   url  review_count  \\\n",
       "995  https://www.yelp.com/biz/mr-broast-des-plaines...            92   \n",
       "996  https://www.yelp.com/biz/osteria-via-stato-chi...          1015   \n",
       "997  https://www.yelp.com/biz/michaels-original-piz...           806   \n",
       "998  https://www.yelp.com/biz/firehouse-grill-chica...            36   \n",
       "999  https://www.yelp.com/biz/torali-chicago-2?adju...            50   \n",
       "\n",
       "                                            categories  rating  \\\n",
       "995         [{'alias': 'burgers', 'title': 'Burgers'}]     3.5   \n",
       "996  [{'alias': 'italian', 'title': 'Italian'}, {'a...     4.0   \n",
       "997  [{'alias': 'pubs', 'title': 'Pubs'}, {'alias':...     4.5   \n",
       "998  [{'alias': 'hotdog', 'title': 'Hot Dogs'}, {'a...     3.5   \n",
       "999  [{'alias': 'italian', 'title': 'Italian'}, {'a...     4.0   \n",
       "\n",
       "                                           coordinates        transactions  \\\n",
       "995  {'latitude': 42.0092501, 'longitude': -87.8858...  [delivery, pickup]   \n",
       "996  {'latitude': 41.893095, 'longitude': -87.6282449}  [delivery, pickup]   \n",
       "997     {'latitude': 41.95681, 'longitude': -87.65173}  [delivery, pickup]   \n",
       "998   {'latitude': 41.866155, 'longitude': -87.765773}  [pickup, delivery]   \n",
       "999  {'latitude': 41.89777438629329, 'longitude': -...          [delivery]   \n",
       "\n",
       "    price                                           location         phone  \\\n",
       "995    $$  {'address1': '7104 Mannheim Rd', 'address2': '...  +18478135797   \n",
       "996    $$  {'address1': '620 N State St', 'address2': '',...  +13126428450   \n",
       "997    $$  {'address1': '4091 N Broadway St', 'address2':...  +17739294149   \n",
       "998     $  {'address1': '5646 W Roosevelt Rd', 'address2'...  +17736260600   \n",
       "999   $$$  {'address1': '160 E Pearson St', 'address2': '...  +13125735160   \n",
       "\n",
       "      display_phone      distance  \n",
       "995  (847) 813-5797  20760.011523  \n",
       "996  (312) 642-8450   4310.411906  \n",
       "997  (773) 929-4149   6139.305618  \n",
       "998  (773) 626-0600   8478.720509  \n",
       "999  (312) 573-5160   4655.257231  "
      ]
     },
     "metadata": {},
     "output_type": "display_data"
    }
   ],
   "source": [
    "# load final results\n",
    "final_df = pd.read_json(JSON_FILE)\n",
    "display(final_df.head(), final_df.tail())"
   ]
  },
  {
   "cell_type": "markdown",
   "id": "f57b6445-f6ca-471f-8671-9e8686591e59",
   "metadata": {},
   "source": [
    "**Check for duplicates** \n",
    "Check for and remove any duplicate results."
   ]
  },
  {
   "cell_type": "code",
   "execution_count": 15,
   "id": "05dc0299-8a90-416b-b106-6eceaf0dad49",
   "metadata": {},
   "outputs": [
    {
     "data": {
      "text/plain": [
       "0"
      ]
     },
     "execution_count": 15,
     "metadata": {},
     "output_type": "execute_result"
    }
   ],
   "source": [
    "# check for duplicate ID's \n",
    "final_df.duplicated(subset='id').sum()"
   ]
  },
  {
   "cell_type": "code",
   "execution_count": 16,
   "id": "4dd2e593-b7e5-45f0-8446-cd636ad49960",
   "metadata": {},
   "outputs": [
    {
     "data": {
      "text/plain": [
       "0"
      ]
     },
     "execution_count": 16,
     "metadata": {},
     "output_type": "execute_result"
    }
   ],
   "source": [
    "## Drop duplicate ids and confirm there are no more duplicates\n",
    "final_df = final_df.drop_duplicates(subset='id')\n",
    "final_df.duplicated(subset='id').sum()"
   ]
  },
  {
   "cell_type": "markdown",
   "id": "82202814-4bc1-43bb-b3ae-9e1d7c434e8f",
   "metadata": {},
   "source": [
    "**Save the final DataFrame to a .csv (or a csv.gz if it's too big for the GitHub file size limit)**"
   ]
  },
  {
   "cell_type": "code",
   "execution_count": 17,
   "id": "2fbc94a7-be63-46e8-9d4d-dd9f830fb22b",
   "metadata": {},
   "outputs": [],
   "source": [
    "# save the final results to a compressed csv\n",
    "final_df.to_csv('Coding Dojo/Week 18/Data/results_in_progress_IL_Burgers.csv.gz', compression='gzip',index=False)"
   ]
  }
 ],
 "metadata": {
  "kernelspec": {
   "display_name": "Python (dojo-env)",
   "language": "python",
   "name": "dojo-env"
  },
  "language_info": {
   "codemirror_mode": {
    "name": "ipython",
    "version": 3
   },
   "file_extension": ".py",
   "mimetype": "text/x-python",
   "name": "python",
   "nbconvert_exporter": "python",
   "pygments_lexer": "ipython3",
   "version": "3.10.10"
  },
  "widgets": {
   "application/vnd.jupyter.widget-state+json": {
    "state": {
     "0954a1a130cd48ae99fef8de36d2e388": {
      "model_module": "@jupyter-widgets/base",
      "model_module_version": "2.0.0",
      "model_name": "LayoutModel",
      "state": {}
     },
     "1805bcedadc746c0860de3fed8cbe69e": {
      "model_module": "@jupyter-widgets/controls",
      "model_module_version": "2.0.0",
      "model_name": "HTMLStyleModel",
      "state": {
       "description_width": "",
       "font_size": null,
       "text_color": null
      }
     },
     "4eff517f14464440a6593a94bcf82844": {
      "model_module": "@jupyter-widgets/controls",
      "model_module_version": "2.0.0",
      "model_name": "FloatProgressModel",
      "state": {
       "bar_style": "danger",
       "layout": "IPY_MODEL_904cabeac88d40afaa97cf6db8ca1c44",
       "max": 275,
       "style": "IPY_MODEL_f7ae830865bf4c8bafa7d3189d7cc498",
       "value": 50
      }
     },
     "53f5d906528b4f6bba376e8eb870cf58": {
      "model_module": "@jupyter-widgets/controls",
      "model_module_version": "2.0.0",
      "model_name": "HTMLStyleModel",
      "state": {
       "description_width": "",
       "font_size": null,
       "text_color": null
      }
     },
     "64b1524c6c234765a005bff1ac57efec": {
      "model_module": "@jupyter-widgets/controls",
      "model_module_version": "2.0.0",
      "model_name": "HTMLModel",
      "state": {
       "layout": "IPY_MODEL_b9fe19e42306499381bfa696376dfeca",
       "style": "IPY_MODEL_53f5d906528b4f6bba376e8eb870cf58",
       "value": " 18%"
      }
     },
     "7e1bfb9a483f48bd86e6bb687f390fd3": {
      "model_module": "@jupyter-widgets/controls",
      "model_module_version": "2.0.0",
      "model_name": "HTMLModel",
      "state": {
       "layout": "IPY_MODEL_b644e246898b436b99cc315529d00590",
       "style": "IPY_MODEL_1805bcedadc746c0860de3fed8cbe69e",
       "value": " 50/275 [01:17&lt;07:15,  1.94s/it]"
      }
     },
     "904cabeac88d40afaa97cf6db8ca1c44": {
      "model_module": "@jupyter-widgets/base",
      "model_module_version": "2.0.0",
      "model_name": "LayoutModel",
      "state": {}
     },
     "b644e246898b436b99cc315529d00590": {
      "model_module": "@jupyter-widgets/base",
      "model_module_version": "2.0.0",
      "model_name": "LayoutModel",
      "state": {}
     },
     "b9fe19e42306499381bfa696376dfeca": {
      "model_module": "@jupyter-widgets/base",
      "model_module_version": "2.0.0",
      "model_name": "LayoutModel",
      "state": {}
     },
     "c73a651204af4836a812dd76b9d91232": {
      "model_module": "@jupyter-widgets/controls",
      "model_module_version": "2.0.0",
      "model_name": "HBoxModel",
      "state": {
       "children": [
        "IPY_MODEL_64b1524c6c234765a005bff1ac57efec",
        "IPY_MODEL_4eff517f14464440a6593a94bcf82844",
        "IPY_MODEL_7e1bfb9a483f48bd86e6bb687f390fd3"
       ],
       "layout": "IPY_MODEL_0954a1a130cd48ae99fef8de36d2e388"
      }
     },
     "f7ae830865bf4c8bafa7d3189d7cc498": {
      "model_module": "@jupyter-widgets/controls",
      "model_module_version": "2.0.0",
      "model_name": "ProgressStyleModel",
      "state": {
       "description_width": ""
      }
     }
    },
    "version_major": 2,
    "version_minor": 0
   }
  }
 },
 "nbformat": 4,
 "nbformat_minor": 5
}
